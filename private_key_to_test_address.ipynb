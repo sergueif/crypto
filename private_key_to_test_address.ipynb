{
 "cells": [
  {
   "cell_type": "code",
   "execution_count": 279,
   "id": "large-lover",
   "metadata": {},
   "outputs": [],
   "source": [
    "# https://www.bitaddress.org/bitaddress.org-v3.3.0-SHA256-dec17c07685e1870960903d8f58090475b25af946fe95a734f88408cef4aa194.html?testnet=true\n",
    "#Testnet Address\n",
    "#Private Key\n",
    "original_address = 'n2vfdrnUHPLVnf32XTiZHX6e2vvGS1Njxe'\n",
    "#### private_key = REDACTED"
   ]
  },
  {
   "cell_type": "code",
   "execution_count": null,
   "id": "broad-portland",
   "metadata": {},
   "outputs": [],
   "source": [
    "# https://mempool.space/testnet/address/n2vfdrnUHPLVnf32XTiZHX6e2vvGS1Njxe"
   ]
  },
  {
   "cell_type": "code",
   "execution_count": 258,
   "id": "failing-finnish",
   "metadata": {},
   "outputs": [],
   "source": [
    "from coincurve import PrivateKey as ECPrivateKey, PublicKey as ECPublicKey\n",
    "# import bitcoin, bit\n",
    "from hashlib import new, sha256 as _sha256\n",
    "from io import BytesIO"
   ]
  },
  {
   "cell_type": "code",
   "execution_count": 259,
   "id": "sublime-weapon",
   "metadata": {},
   "outputs": [],
   "source": [
    "BASE58_ALPHABET = '123456789ABCDEFGHJKLMNPQRSTUVWXYZabcdefghijkmnopqrstuvwxyz'\n",
    "BASE58_ALPHABET_LIST = list(BASE58_ALPHABET)\n",
    "BASE58_ALPHABET_INDEX = {char: index for index, char in enumerate(BASE58_ALPHABET)}"
   ]
  },
  {
   "cell_type": "code",
   "execution_count": 260,
   "id": "awful-argument",
   "metadata": {},
   "outputs": [],
   "source": [
    "# Keys:\n",
    "MAIN_PRIVATE_KEY = b'\\x80'\n",
    "MAIN_BIP32_PUBKEY = b'\\x04\\x88\\xb2\\x1e'\n",
    "MAIN_BIP32_PRIVKEY = b'\\x04\\x88\\xad\\xe4'\n",
    "TEST_PRIVATE_KEY = b'\\xef'\n",
    "TEST_BIP32_PUBKEY = b'\\x045\\x87\\xcf'\n",
    "TEST_BIP32_PRIVKEY = b'\\x045\\x83\\x94'\n",
    "PUBLIC_KEY_UNCOMPRESSED = b'\\x04'\n",
    "PUBLIC_KEY_COMPRESSED_EVEN_Y = b'\\x02'\n",
    "PUBLIC_KEY_COMPRESSED_ODD_Y = b'\\x03'\n",
    "PRIVATE_KEY_COMPRESSED_PUBKEY = b'\\x01'"
   ]
  },
  {
   "cell_type": "code",
   "execution_count": 261,
   "id": "raising-mouth",
   "metadata": {},
   "outputs": [],
   "source": [
    "MAIN_PUBKEY_HASH = b'\\x00'\n",
    "MAIN_SCRIPT_HASH = b'\\x05'\n",
    "TEST_PUBKEY_HASH = b'\\x6f'\n",
    "TEST_SCRIPT_HASH = b'\\xc4'"
   ]
  },
  {
   "cell_type": "code",
   "execution_count": 262,
   "id": "allied-opera",
   "metadata": {},
   "outputs": [],
   "source": [
    "def double_sha256(bytestr):\n",
    "    return _sha256(_sha256(bytestr).digest()).digest()"
   ]
  },
  {
   "cell_type": "code",
   "execution_count": 263,
   "id": "selected-webcam",
   "metadata": {},
   "outputs": [],
   "source": [
    "def double_sha256_checksum(bytestr):\n",
    "    return double_sha256(bytestr)[:4]"
   ]
  },
  {
   "cell_type": "code",
   "execution_count": 264,
   "id": "behavioral-receipt",
   "metadata": {},
   "outputs": [],
   "source": [
    "def int_to_unknown_bytes(num, byteorder='big'):\n",
    "    \"\"\"Converts an int to the least number of bytes as possible.\"\"\"\n",
    "    return num.to_bytes((num.bit_length() + 7) // 8 or 1, byteorder)"
   ]
  },
  {
   "cell_type": "code",
   "execution_count": 265,
   "id": "elder-cricket",
   "metadata": {},
   "outputs": [],
   "source": [
    "def b58decode(string):\n",
    "\n",
    "    alphabet_index = BASE58_ALPHABET_INDEX\n",
    "\n",
    "    num = 0\n",
    "\n",
    "    try:\n",
    "        for char in string:\n",
    "            num *= 58\n",
    "            num += alphabet_index[char]\n",
    "    except KeyError:\n",
    "        raise ValueError('\"{}\" is an invalid base58 encoded character.'.format(char)) from None\n",
    "\n",
    "    bytestr = int_to_unknown_bytes(num)\n",
    "\n",
    "    pad = 0\n",
    "    for char in string:\n",
    "        if char == '1':\n",
    "            pad += 1\n",
    "        else:\n",
    "            break\n",
    "\n",
    "    return b'\\x00' * pad + bytestr"
   ]
  },
  {
   "cell_type": "code",
   "execution_count": 266,
   "id": "synthetic-doctrine",
   "metadata": {},
   "outputs": [],
   "source": [
    "def b58decode_check(string):\n",
    "\n",
    "    decoded = b58decode(string)\n",
    "    shortened = decoded[:-4]\n",
    "    decoded_checksum = decoded[-4:]\n",
    "    hash_checksum = double_sha256_checksum(shortened)\n",
    "\n",
    "    if decoded_checksum != hash_checksum:\n",
    "        raise ValueError(\n",
    "            'Decoded checksum {} derived from \"{}\" is not equal to hash '\n",
    "            'checksum {}.'.format(decoded_checksum, string, hash_checksum)\n",
    "        )\n",
    "\n",
    "    return shortened"
   ]
  },
  {
   "cell_type": "code",
   "execution_count": 267,
   "id": "precious-acrylic",
   "metadata": {},
   "outputs": [],
   "source": [
    "def wif_to_bytes(wif):\n",
    "\n",
    "    private_key = b58decode_check(wif)\n",
    "\n",
    "    version = private_key[:1]\n",
    "\n",
    "    if version == MAIN_PRIVATE_KEY:\n",
    "        version = 'main'\n",
    "    elif version == TEST_PRIVATE_KEY:\n",
    "        version = 'test'\n",
    "    else:\n",
    "        raise ValueError('{} does not correspond to a mainnet nor testnet address.'.format(version))\n",
    "\n",
    "    # Remove version byte and, if present, compression flag.\n",
    "    if len(wif) == 52 and private_key[-1] == 1:\n",
    "        private_key, compressed = private_key[1:-1], True\n",
    "    else:\n",
    "        private_key, compressed = private_key[1:], False\n",
    "\n",
    "    return private_key, compressed, version"
   ]
  },
  {
   "cell_type": "code",
   "execution_count": 268,
   "id": "polyphonic-paper",
   "metadata": {},
   "outputs": [],
   "source": [
    "from collections import namedtuple\n",
    "\n",
    "FIELD_SIZE = 0xFFFFFFFFFFFFFFFFFFFFFFFFFFFFFFFFFFFFFFFFFFFFFFFFFFFFFFFEFFFFFC2F\n",
    "GROUP_ORDER = 0xFFFFFFFFFFFFFFFFFFFFFFFFFFFFFFFEBAAEDCE6AF48A03BBFD25E8CD0364141\n",
    "TONELLI_SHANKS_CONSTANT = (FIELD_SIZE + 1) // 4\n",
    "\n",
    "\n",
    "Point = namedtuple('Point', ('x', 'y'))\n",
    "\n",
    "\n",
    "def parity(num):\n",
    "    return num & 1\n",
    "\n",
    "\n",
    "def x_to_y(x, y_parity):\n",
    "\n",
    "    y = pow(x ** 3 + 7, TONELLI_SHANKS_CONSTANT, FIELD_SIZE)\n",
    "\n",
    "    if parity(y) != y_parity:\n",
    "        y = FIELD_SIZE - y\n",
    "\n",
    "    return y"
   ]
  },
  {
   "cell_type": "code",
   "execution_count": 269,
   "id": "restricted-elimination",
   "metadata": {},
   "outputs": [],
   "source": [
    "def public_key_to_coords(public_key):\n",
    "\n",
    "    length = len(public_key)\n",
    "\n",
    "    if length == 33:\n",
    "        flag, x = int.from_bytes(public_key[:1], 'big'), int.from_bytes(public_key[1:], 'big')\n",
    "        y = x_to_y(x, flag & 1)\n",
    "    elif length == 65:\n",
    "        x, y = int.from_bytes(public_key[1:33], 'big'), int.from_bytes(public_key[33:], 'big')\n",
    "    else:\n",
    "        raise ValueError('{} is an invalid length for a public key.'.format(length))\n",
    "\n",
    "    return x, y\n"
   ]
  },
  {
   "cell_type": "code",
   "execution_count": 270,
   "id": "occupational-phrase",
   "metadata": {},
   "outputs": [],
   "source": [
    "def public_point(_public_key,_public_point=None):\n",
    "    \"\"\"The public point (x, y).\"\"\"\n",
    "    if _public_point is None:\n",
    "        _public_point = Point(*public_key_to_coords(_public_key))\n",
    "    return _public_point"
   ]
  },
  {
   "cell_type": "code",
   "execution_count": 271,
   "id": "corresponding-survey",
   "metadata": {},
   "outputs": [],
   "source": [
    "private_key_bytes = wif_to_bytes(private_key)\n",
    "_pk = PrivateKey(private_key_bytes[0])"
   ]
  },
  {
   "cell_type": "code",
   "execution_count": 272,
   "id": "informed-duplicate",
   "metadata": {},
   "outputs": [],
   "source": [
    "_public_key = _pk.public_key.format(compressed=private_key_bytes[1])"
   ]
  },
  {
   "cell_type": "code",
   "execution_count": 273,
   "id": "absolute-beaver",
   "metadata": {},
   "outputs": [
    {
     "data": {
      "text/plain": [
       "b'\\x03\\xbb\\xbfp\\xa9\\x85F\\x8e\\xc9\\x8fE\\x9a\\x07\\x92\\xcfv\\x84\\x9aU\\xe6\\xec\\xf2\\xce\\xfdj=\\xfc\\x08\\xffQ\\xcfp\\xa3'"
      ]
     },
     "execution_count": 273,
     "metadata": {},
     "output_type": "execute_result"
    }
   ],
   "source": [
    "_public_key"
   ]
  },
  {
   "cell_type": "code",
   "execution_count": 274,
   "id": "hundred-concentrate",
   "metadata": {
    "scrolled": true
   },
   "outputs": [
    {
     "data": {
      "text/plain": [
       "Point(x=84920748040300873896448322609322126171245396536779421472866519299972580470947, y=115327645188757170880311840198543563942798424331185797480365562124129996929519)"
      ]
     },
     "execution_count": 274,
     "metadata": {},
     "output_type": "execute_result"
    }
   ],
   "source": [
    "public_point(_public_key)"
   ]
  },
  {
   "cell_type": "code",
   "execution_count": 275,
   "id": "downtown-causing",
   "metadata": {},
   "outputs": [],
   "source": [
    "def ripemd160_sha256(bytestr):\n",
    "    return new('ripemd160', sha256(bytestr).digest()).digest()"
   ]
  },
  {
   "cell_type": "code",
   "execution_count": 250,
   "id": "returning-philadelphia",
   "metadata": {},
   "outputs": [],
   "source": [
    "from collections import deque"
   ]
  },
  {
   "cell_type": "code",
   "execution_count": 251,
   "id": "latest-little",
   "metadata": {},
   "outputs": [],
   "source": [
    "def b58encode(bytestr):\n",
    "\n",
    "    alphabet = BASE58_ALPHABET_LIST\n",
    "\n",
    "    encoded = deque()\n",
    "    append = encoded.appendleft\n",
    "    _divmod = divmod\n",
    "\n",
    "    num = int.from_bytes(bytestr, 'big')\n",
    "\n",
    "    while num > 0:\n",
    "        num, rem = _divmod(num, 58)\n",
    "        append(alphabet[rem])\n",
    "\n",
    "    encoded = ''.join(encoded)\n",
    "\n",
    "    pad = 0\n",
    "    for byte in bytestr:\n",
    "        if byte == 0:\n",
    "            pad += 1\n",
    "        else:\n",
    "            break\n",
    "\n",
    "    return '1' * pad + encoded\n"
   ]
  },
  {
   "cell_type": "code",
   "execution_count": 276,
   "id": "heavy-advertising",
   "metadata": {},
   "outputs": [],
   "source": [
    "def b58encode_check(bytestr):\n",
    "    return b58encode(bytestr + double_sha256_checksum(bytestr))"
   ]
  },
  {
   "cell_type": "code",
   "execution_count": 277,
   "id": "worthy-quilt",
   "metadata": {},
   "outputs": [],
   "source": [
    "def public_key_to_address(public_key, version='main'):\n",
    "\n",
    "    if version == 'test':\n",
    "        version = TEST_PUBKEY_HASH\n",
    "    else:\n",
    "        version = MAIN_PUBKEY_HASH\n",
    "\n",
    "    length = len(public_key)\n",
    "\n",
    "    if length not in (33, 65):\n",
    "        raise ValueError('{} is an invalid length for a public key.'.format(length))\n",
    "\n",
    "    return b58encode_check(version + ripemd160_sha256(public_key))"
   ]
  },
  {
   "cell_type": "code",
   "execution_count": 278,
   "id": "funded-dutch",
   "metadata": {},
   "outputs": [
    {
     "data": {
      "text/plain": [
       "'n2vfdrnUHPLVnf32XTiZHX6e2vvGS1Njxe'"
      ]
     },
     "execution_count": 278,
     "metadata": {},
     "output_type": "execute_result"
    }
   ],
   "source": [
    "b58encode_check(TEST_PUBKEY_HASH + ripemd160_sha256(_public_key))"
   ]
  }
 ],
 "metadata": {
  "kernelspec": {
   "display_name": "Python 3",
   "language": "python",
   "name": "python3"
  },
  "language_info": {
   "codemirror_mode": {
    "name": "ipython",
    "version": 3
   },
   "file_extension": ".py",
   "mimetype": "text/x-python",
   "name": "python",
   "nbconvert_exporter": "python",
   "pygments_lexer": "ipython3",
   "version": "3.8.2"
  }
 },
 "nbformat": 4,
 "nbformat_minor": 5
}
